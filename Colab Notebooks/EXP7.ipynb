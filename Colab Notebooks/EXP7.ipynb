{
 "cells": [
  {
   "cell_type": "code",
   "execution_count": null,
   "metadata": {
    "colab": {
     "base_uri": "https://localhost:8080/",
     "height": 423
    },
    "executionInfo": {
     "elapsed": 452,
     "status": "ok",
     "timestamp": 1728026289180,
     "user": {
      "displayName": "Paravi Bhatia",
      "userId": "02901111611025640929"
     },
     "user_tz": -330
    },
    "id": "E9_FkoTq_mWw",
    "outputId": "6d239707-b48d-49c5-93af-e2fb0c619ab7"
   },
   "outputs": [],
   "source": [
    "import numpy as np\n",
    "import pandas as pd\n",
    "food=pd.read_csv('food.csv')\n",
    "food"
   ]
  },
  {
   "cell_type": "code",
   "execution_count": null,
   "metadata": {
    "colab": {
     "base_uri": "https://localhost:8080/"
    },
    "executionInfo": {
     "elapsed": 517,
     "status": "ok",
     "timestamp": 1728026402206,
     "user": {
      "displayName": "Paravi Bhatia",
      "userId": "02901111611025640929"
     },
     "user_tz": -330
    },
    "id": "QTdlpqOP_9Wd",
    "outputId": "644c68a5-f87f-4639-f1ec-4fc7aa2286ed"
   },
   "outputs": [],
   "source": [
    "print(food.shape)\n",
    "print(food.info())\n",
    "print(food.describe())"
   ]
  },
  {
   "cell_type": "code",
   "execution_count": null,
   "metadata": {
    "colab": {
     "base_uri": "https://localhost:8080/"
    },
    "executionInfo": {
     "elapsed": 659,
     "status": "ok",
     "timestamp": 1728026438250,
     "user": {
      "displayName": "Paravi Bhatia",
      "userId": "02901111611025640929"
     },
     "user_tz": -330
    },
    "id": "BRL0HNTEALI_",
    "outputId": "3476d8e2-50a1-448e-e579-67e625300c52"
   },
   "outputs": [],
   "source": [
    "#total dishes\n",
    "total=food.groupby('name')\n",
    "print(\"total number of indian dishes is\", len(total))"
   ]
  },
  {
   "cell_type": "code",
   "execution_count": null,
   "metadata": {
    "colab": {
     "base_uri": "https://localhost:8080/",
     "height": 300
    },
    "executionInfo": {
     "elapsed": 520,
     "status": "ok",
     "timestamp": 1728026466414,
     "user": {
      "displayName": "Paravi Bhatia",
      "userId": "02901111611025640929"
     },
     "user_tz": -330
    },
    "id": "j05FwNLWCZpS",
    "outputId": "7f86a0ba-d455-429e-91b2-4ba851d0c539"
   },
   "outputs": [],
   "source": [
    "(food.describe())"
   ]
  },
  {
   "cell_type": "code",
   "execution_count": null,
   "metadata": {
    "colab": {
     "base_uri": "https://localhost:8080/"
    },
    "executionInfo": {
     "elapsed": 458,
     "status": "ok",
     "timestamp": 1728026799115,
     "user": {
      "displayName": "Paravi Bhatia",
      "userId": "02901111611025640929"
     },
     "user_tz": -330
    },
    "id": "rQVa5VTvCrhw",
    "outputId": "a5bddc13-c267-4059-ff77-b4654c42a8c1"
   },
   "outputs": [],
   "source": [
    "na=food.isnull().sum()\n",
    "print(na)\n",
    "new=food.dropna(subset=['region'])\n",
    "print(new)\n",
    "na_values=food.isnull().sum()\n",
    "print(na_values)"
   ]
  },
  {
   "cell_type": "code",
   "execution_count": null,
   "metadata": {
    "colab": {
     "base_uri": "https://localhost:8080/"
    },
    "executionInfo": {
     "elapsed": 456,
     "status": "ok",
     "timestamp": 1728026943353,
     "user": {
      "displayName": "Paravi Bhatia",
      "userId": "02901111611025640929"
     },
     "user_tz": -330
    },
    "id": "1k6F2A8-boEF",
    "outputId": "6baebcf3-c3fa-4884-c7dd-9bd77176deaa"
   },
   "outputs": [],
   "source": [
    "# To count numeric features\n",
    "numeric_features = food.select_dtypes(include=['int64', 'float64']).columns\n",
    "print(\"Number of Numeric Features:\", len(numeric_features))\n",
    "\n",
    "# To count categorical features\n",
    "categorical_features = food.select_dtypes(include=['object', 'category']).columns\n",
    "print(\"Number of Categorical Features:\", len(categorical_features))\n"
   ]
  },
  {
   "cell_type": "code",
   "execution_count": null,
   "metadata": {
    "colab": {
     "base_uri": "https://localhost:8080/"
    },
    "executionInfo": {
     "elapsed": 422,
     "status": "ok",
     "timestamp": 1728027013532,
     "user": {
      "displayName": "Paravi Bhatia",
      "userId": "02901111611025640929"
     },
     "user_tz": -330
    },
    "id": "EMLx1rR0b2jm",
    "outputId": "5fd5096a-3787-4542-f438-4ce08877bc6c"
   },
   "outputs": [],
   "source": [
    "unique_values = food.nunique()\n",
    "print(unique_values)"
   ]
  },
  {
   "cell_type": "code",
   "execution_count": null,
   "metadata": {
    "colab": {
     "base_uri": "https://localhost:8080/"
    },
    "executionInfo": {
     "elapsed": 419,
     "status": "ok",
     "timestamp": 1728027097177,
     "user": {
      "displayName": "Paravi Bhatia",
      "userId": "02901111611025640929"
     },
     "user_tz": -330
    },
    "id": "ivS0qTlacGl-",
    "outputId": "7755ae4d-8295-41a3-f6ce-f70a13630f40"
   },
   "outputs": [],
   "source": [
    "food['total_time'] = food['prep_time'] + food['cook_time']\n",
    "print(food.head())"
   ]
  },
  {
   "cell_type": "code",
   "execution_count": null,
   "metadata": {
    "colab": {
     "base_uri": "https://localhost:8080/"
    },
    "executionInfo": {
     "elapsed": 434,
     "status": "ok",
     "timestamp": 1728027158770,
     "user": {
      "displayName": "Paravi Bhatia",
      "userId": "02901111611025640929"
     },
     "user_tz": -330
    },
    "id": "prVpR2VREgYP",
    "outputId": "6b502234-9a22-40b5-8086-227d7f795c4d"
   },
   "outputs": [],
   "source": [
    "import pandas as pd\n",
    "df = pd.read_csv('food.csv')\n",
    "df['ingredient_count'] = df['ingredients'].apply(lambda x: len(str(x).split(',')) if pd.notnull(x) else 0)\n",
    "print(df[['ingredients', 'ingredient_count']].head())"
   ]
  },
  {
   "cell_type": "code",
   "execution_count": null,
   "metadata": {
    "id": "K1uBI0kebmS1"
   },
   "outputs": [],
   "source": []
  },
  {
   "cell_type": "code",
   "execution_count": null,
   "metadata": {
    "colab": {
     "base_uri": "https://localhost:8080/",
     "height": 423
    },
    "executionInfo": {
     "elapsed": 456,
     "status": "ok",
     "timestamp": 1728027230154,
     "user": {
      "displayName": "Paravi Bhatia",
      "userId": "02901111611025640929"
     },
     "user_tz": -330
    },
    "id": "kP0po581Il5G",
    "outputId": "7a3d952c-3f47-40fa-a675-a63af2c958bd"
   },
   "outputs": [],
   "source": [
    "df=pd.read_csv('Toyota.csv')\n",
    "df"
   ]
  },
  {
   "cell_type": "code",
   "execution_count": null,
   "metadata": {
    "colab": {
     "base_uri": "https://localhost:8080/"
    },
    "executionInfo": {
     "elapsed": 449,
     "status": "ok",
     "timestamp": 1728027252579,
     "user": {
      "displayName": "Paravi Bhatia",
      "userId": "02901111611025640929"
     },
     "user_tz": -330
    },
    "id": "tf3Yhb4eRwQV",
    "outputId": "036a9780-ad14-4054-f748-9c26b7f2f917"
   },
   "outputs": [],
   "source": [
    "print(df.shape)\n",
    "print(df.info())\n",
    "print(df.describe())"
   ]
  },
  {
   "cell_type": "code",
   "execution_count": null,
   "metadata": {
    "colab": {
     "base_uri": "https://localhost:8080/"
    },
    "executionInfo": {
     "elapsed": 437,
     "status": "ok",
     "timestamp": 1728027286862,
     "user": {
      "displayName": "Paravi Bhatia",
      "userId": "02901111611025640929"
     },
     "user_tz": -330
    },
    "id": "VM-jRXCXSx8x",
    "outputId": "ee994f6b-5441-4a6d-80af-f3610d843196"
   },
   "outputs": [],
   "source": [
    "print(\"all the columns are\", df.columns)"
   ]
  },
  {
   "cell_type": "code",
   "execution_count": null,
   "metadata": {
    "colab": {
     "base_uri": "https://localhost:8080/"
    },
    "executionInfo": {
     "elapsed": 464,
     "status": "ok",
     "timestamp": 1728027310260,
     "user": {
      "displayName": "Paravi Bhatia",
      "userId": "02901111611025640929"
     },
     "user_tz": -330
    },
    "id": "GhOAXsa9TA0A",
    "outputId": "f073b38f-b728-4dcc-fe40-a2cf4cb40ed4"
   },
   "outputs": [],
   "source": [
    "fourth= df.iloc[3]['FuelType']\n",
    "print(fourth)"
   ]
  },
  {
   "cell_type": "code",
   "execution_count": null,
   "metadata": {
    "colab": {
     "base_uri": "https://localhost:8080/"
    },
    "executionInfo": {
     "elapsed": 422,
     "status": "ok",
     "timestamp": 1728027327175,
     "user": {
      "displayName": "Paravi Bhatia",
      "userId": "02901111611025640929"
     },
     "user_tz": -330
    },
    "id": "hRsb58MzThpG",
    "outputId": "ca47e9dd-9475-45a5-de9c-efdef093cd75"
   },
   "outputs": [],
   "source": [
    "value = df.iloc[3, 1]\n",
    "print(value)"
   ]
  },
  {
   "cell_type": "code",
   "execution_count": null,
   "metadata": {
    "colab": {
     "base_uri": "https://localhost:8080/"
    },
    "executionInfo": {
     "elapsed": 426,
     "status": "ok",
     "timestamp": 1728027992918,
     "user": {
      "displayName": "Paravi Bhatia",
      "userId": "02901111611025640929"
     },
     "user_tz": -330
    },
    "id": "9zb6h_KpUCo4",
    "outputId": "9b8a47b7-5044-4f70-e5cd-d293e618983e"
   },
   "outputs": [],
   "source": [
    "fuel_type_column =df['FuelType']\n",
    "print(fuel_type_column.head())\n"
   ]
  },
  {
   "cell_type": "code",
   "execution_count": null,
   "metadata": {
    "colab": {
     "base_uri": "https://localhost:8080/"
    },
    "executionInfo": {
     "elapsed": 445,
     "status": "ok",
     "timestamp": 1728028128263,
     "user": {
      "displayName": "Paravi Bhatia",
      "userId": "02901111611025640929"
     },
     "user_tz": -330
    },
    "id": "jqEhqImKdRew",
    "outputId": "e424b2de-c645-4a8f-990c-0f2aa493a898"
   },
   "outputs": [],
   "source": [
    "selected_columns = df[['KM', 'HP', 'Automatic']]\n",
    "print(selected_columns.head())\n"
   ]
  },
  {
   "cell_type": "code",
   "execution_count": null,
   "metadata": {
    "colab": {
     "base_uri": "https://localhost:8080/"
    },
    "executionInfo": {
     "elapsed": 421,
     "status": "ok",
     "timestamp": 1728028185670,
     "user": {
      "displayName": "Paravi Bhatia",
      "userId": "02901111611025640929"
     },
     "user_tz": -330
    },
    "id": "Nq3zq-MMgHJB",
    "outputId": "cf93c44a-216a-4f4a-e5ee-458863610ba5"
   },
   "outputs": [],
   "source": [
    "selected_rows_columns = df.iloc[0:5, 1:4]\n",
    "print(selected_rows_columns)\n"
   ]
  },
  {
   "cell_type": "code",
   "execution_count": null,
   "metadata": {
    "colab": {
     "base_uri": "https://localhost:8080/",
     "height": 752
    },
    "executionInfo": {
     "elapsed": 706,
     "status": "ok",
     "timestamp": 1728028232983,
     "user": {
      "displayName": "Paravi Bhatia",
      "userId": "02901111611025640929"
     },
     "user_tz": -330
    },
    "id": "zTU32QvXgWZB",
    "outputId": "72e856a7-d3ea-484d-f92b-8b658a213540"
   },
   "outputs": [],
   "source": [
    "df.info()\n",
    "df"
   ]
  },
  {
   "cell_type": "code",
   "execution_count": null,
   "metadata": {
    "colab": {
     "base_uri": "https://localhost:8080/"
    },
    "executionInfo": {
     "elapsed": 432,
     "status": "ok",
     "timestamp": 1728028540768,
     "user": {
      "displayName": "Paravi Bhatia",
      "userId": "02901111611025640929"
     },
     "user_tz": -330
    },
    "id": "1Rj_awKegdgi",
    "outputId": "43879bd4-764c-4212-81df-1c927cf52c3a"
   },
   "outputs": [],
   "source": [
    "new=df.copy()\n",
    "new.replace(\"??\", np.nan, inplace=True)\n",
    "print(new.head())\n"
   ]
  },
  {
   "cell_type": "code",
   "execution_count": null,
   "metadata": {
    "colab": {
     "base_uri": "https://localhost:8080/"
    },
    "executionInfo": {
     "elapsed": 417,
     "status": "ok",
     "timestamp": 1728028681339,
     "user": {
      "displayName": "Paravi Bhatia",
      "userId": "02901111611025640929"
     },
     "user_tz": -330
    },
    "id": "nPoPl4OChlF9",
    "outputId": "1c9027ae-364e-487f-e7a1-e6dc8eea4390"
   },
   "outputs": [],
   "source": [
    "doors_mapping = {\n",
    "    'three': 3,\n",
    "    'two': 2,\n",
    "    'four': 4,\n",
    "    2: 2,\n",
    "    3: 3,\n",
    "    4: 4,\n",
    "    5: 5\n",
    "}\n",
    "new['Doors'].replace(doors_mapping, inplace=True)\n",
    "print(new[['Doors']].head())"
   ]
  },
  {
   "cell_type": "code",
   "execution_count": null,
   "metadata": {
    "colab": {
     "base_uri": "https://localhost:8080/"
    },
    "executionInfo": {
     "elapsed": 418,
     "status": "ok",
     "timestamp": 1728028757078,
     "user": {
      "displayName": "Paravi Bhatia",
      "userId": "02901111611025640929"
     },
     "user_tz": -330
    },
    "id": "4U45FFhLiOBs",
    "outputId": "23b464e0-ec33-4da4-aa3a-d37448e12565"
   },
   "outputs": [],
   "source": [
    "for column in ['KM', 'HP', 'Doors']:\n",
    "  unique_values = new[column].unique()\n",
    "  print(f\"Unique values for {column}: {unique_values}\")\n"
   ]
  },
  {
   "cell_type": "code",
   "execution_count": null,
   "metadata": {
    "colab": {
     "base_uri": "https://localhost:8080/"
    },
    "executionInfo": {
     "elapsed": 445,
     "status": "ok",
     "timestamp": 1728029219997,
     "user": {
      "displayName": "Paravi Bhatia",
      "userId": "02901111611025640929"
     },
     "user_tz": -330
    },
    "id": "5HUAEON8iba8",
    "outputId": "1cff2234-3c2e-4b1d-c845-291ffd53342c"
   },
   "outputs": [],
   "source": [
    "doors_mapping = {\n",
    "    'two': 2,\n",
    "    'three': 3,\n",
    "    'four': 4,\n",
    "    'five': 5,\n",
    "}\n",
    "new['Doors'].replace(doors_mapping, inplace=True)\n",
    "new['Doors'] = new['Doors'].astype(int)\n",
    "new['MetColor'] = pd.to_numeric(new['MetColor'], errors='coerce').fillna(0).astype(int)\n",
    "new['Automatic'] = pd.to_numeric(new['Automatic'], errors='coerce').fillna(0).astype(int)\n",
    "print(new[['Doors', 'MetColor', 'Automatic']].dtypes)"
   ]
  },
  {
   "cell_type": "code",
   "execution_count": null,
   "metadata": {
    "colab": {
     "base_uri": "https://localhost:8080/"
    },
    "executionInfo": {
     "elapsed": 441,
     "status": "ok",
     "timestamp": 1728029260327,
     "user": {
      "displayName": "Paravi Bhatia",
      "userId": "02901111611025640929"
     },
     "user_tz": -330
    },
    "id": "tlpCfQnqiuJ5",
    "outputId": "37c6ca13-ccb6-48ca-82f2-fbc348a1ade7"
   },
   "outputs": [],
   "source": [
    "null_counts = new.isnull().sum()\n",
    "print(null_counts)"
   ]
  },
  {
   "cell_type": "code",
   "execution_count": null,
   "metadata": {
    "colab": {
     "base_uri": "https://localhost:8080/"
    },
    "executionInfo": {
     "elapsed": 426,
     "status": "ok",
     "timestamp": 1728029300132,
     "user": {
      "displayName": "Paravi Bhatia",
      "userId": "02901111611025640929"
     },
     "user_tz": -330
    },
    "id": "DYOEP09mkfW6",
    "outputId": "00cce5d1-7bb0-481a-a3fb-9f732abb3686"
   },
   "outputs": [],
   "source": [
    "new_df = new.dropna()\n",
    "print(new_df.isnull().sum())"
   ]
  },
  {
   "cell_type": "code",
   "execution_count": null,
   "metadata": {
    "colab": {
     "base_uri": "https://localhost:8080/"
    },
    "executionInfo": {
     "elapsed": 417,
     "status": "ok",
     "timestamp": 1728029416549,
     "user": {
      "displayName": "Paravi Bhatia",
      "userId": "02901111611025640929"
     },
     "user_tz": -330
    },
    "id": "0TFnF0E4kpEv",
    "outputId": "b18298e6-d404-44eb-92ae-03c39e05ba87"
   },
   "outputs": [],
   "source": [
    "petrol_count = new_df[new_df['FuelType'] == 'Petrol'].shape[0]\n",
    "diesel_count = new_df[new_df['FuelType'] == 'Diesel'].shape[0]\n",
    "cng_count = new_df[new_df['FuelType'] == 'CNG'].shape[0]\n",
    "\n",
    "total_count = petrol_count + diesel_count + cng_count\n",
    "\n",
    "print(\"Total number of cars that run on Petrol, Diesel, or CNG:\", total_count)\n"
   ]
  }
 ],
 "metadata": {
  "colab": {
   "authorship_tag": "ABX9TyPtS7iPmRLbgdfQJJGvg0MZ",
   "provenance": []
  },
  "kernelspec": {
   "display_name": "Python 3 (ipykernel)",
   "language": "python",
   "name": "python3"
  },
  "language_info": {
   "codemirror_mode": {
    "name": "ipython",
    "version": 3
   },
   "file_extension": ".py",
   "mimetype": "text/x-python",
   "name": "python",
   "nbconvert_exporter": "python",
   "pygments_lexer": "ipython3",
   "version": "3.12.1"
  }
 },
 "nbformat": 4,
 "nbformat_minor": 4
}
